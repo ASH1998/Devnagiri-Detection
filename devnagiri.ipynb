{
 "cells": [
  {
   "cell_type": "code",
   "execution_count": 1,
   "metadata": {
    "colab": {
     "autoexec": {
      "startup": false,
      "wait_interval": 0
     },
     "base_uri": "https://localhost:8080/",
     "height": 360
    },
    "colab_type": "code",
    "executionInfo": {
     "elapsed": 4021,
     "status": "ok",
     "timestamp": 1533518375458,
     "user": {
      "displayName": "Ashutosh Mishra",
      "photoUrl": "//lh5.googleusercontent.com/-flRvctClubY/AAAAAAAAAAI/AAAAAAAAADE/yH7fXuNfy3c/s50-c-k-no/photo.jpg",
      "userId": "115571466824821105632"
     },
     "user_tz": -330
    },
    "id": "svpdigMUzv3O",
    "outputId": "2d17b7d9-21c5-44d0-d2a0-d2b695547981"
   },
   "outputs": [
    {
     "name": "stdout",
     "output_type": "stream",
     "text": [
      "Collecting kaggle\n",
      "\u001b[?25l  Downloading https://files.pythonhosted.org/packages/5c/09/24c3f5d332c3ca2f74914566da4c737d59d8eec752e2a6db584344fa9519/kaggle-1.4.5.tar.gz (46kB)\n",
      "\u001b[K    100% |████████████████████████████████| 51kB 1.9MB/s \n",
      "\u001b[?25hRequirement already satisfied: urllib3<1.23.0,>=1.15 in /usr/local/lib/python2.7/dist-packages (from kaggle) (1.22)\n",
      "Requirement already satisfied: six>=1.10 in /usr/local/lib/python2.7/dist-packages (from kaggle) (1.11.0)\n",
      "Requirement already satisfied: certifi in /usr/local/lib/python2.7/dist-packages (from kaggle) (2018.4.16)\n",
      "Requirement already satisfied: python-dateutil in /usr/local/lib/python2.7/dist-packages (from kaggle) (2.5.3)\n",
      "Requirement already satisfied: requests in /usr/local/lib/python2.7/dist-packages (from kaggle) (2.18.4)\n",
      "Collecting tqdm (from kaggle)\n",
      "\u001b[?25l  Downloading https://files.pythonhosted.org/packages/7d/e6/19dfaff08fcbee7f3453e5b537e65a8364f1945f921a36d08be1e2ff3475/tqdm-4.24.0-py2.py3-none-any.whl (43kB)\n",
      "\u001b[K    100% |████████████████████████████████| 51kB 7.1MB/s \n",
      "\u001b[?25hRequirement already satisfied: idna<2.7,>=2.5 in /usr/local/lib/python2.7/dist-packages (from requests->kaggle) (2.6)\n",
      "Requirement already satisfied: chardet<3.1.0,>=3.0.2 in /usr/local/lib/python2.7/dist-packages (from requests->kaggle) (3.0.4)\n",
      "Building wheels for collected packages: kaggle\n",
      "  Running setup.py bdist_wheel for kaggle ... \u001b[?25l-\b \bdone\n",
      "\u001b[?25h  Stored in directory: /content/.cache/pip/wheels/40/3a/1a/030a08ebef5e1aef1ee6f0fd2b70666a9363f48d4bb6f7c4b4\n",
      "Successfully built kaggle\n",
      "Installing collected packages: tqdm, kaggle\n",
      "Successfully installed kaggle-1.4.5 tqdm-4.24.0\n"
     ]
    }
   ],
   "source": [
    "!pip install kaggle"
   ]
  },
  {
   "cell_type": "code",
   "execution_count": 0,
   "metadata": {
    "colab": {
     "autoexec": {
      "startup": false,
      "wait_interval": 0
     }
    },
    "colab_type": "code",
    "id": "gF4baEWo0upk"
   },
   "outputs": [],
   "source": [
    "!mkdir -p ~/.kaggle\n",
    "!cp kaggle.json ~/.kaggle/"
   ]
  },
  {
   "cell_type": "code",
   "execution_count": 4,
   "metadata": {
    "colab": {
     "autoexec": {
      "startup": false,
      "wait_interval": 0
     },
     "base_uri": "https://localhost:8080/",
     "height": 85
    },
    "colab_type": "code",
    "executionInfo": {
     "elapsed": 6624,
     "status": "ok",
     "timestamp": 1533518398588,
     "user": {
      "displayName": "Ashutosh Mishra",
      "photoUrl": "//lh5.googleusercontent.com/-flRvctClubY/AAAAAAAAAAI/AAAAAAAAADE/yH7fXuNfy3c/s50-c-k-no/photo.jpg",
      "userId": "115571466824821105632"
     },
     "user_tz": -330
    },
    "id": "5jTtg6s41npr",
    "outputId": "2ee269fb-4987-49a9-8301-a760f31560af"
   },
   "outputs": [
    {
     "name": "stdout",
     "output_type": "stream",
     "text": [
      "Warning: Your Kaggle API key is readable by other users on this system! To fix this, you can run 'chmod 600 /content/.kaggle/kaggle.json'\n",
      "Downloading devanagari-character-set.zip to /content\n",
      "100%|█████████████████████████████████████████| 100M/100M [00:00<00:00, 147MB/s]\n",
      "\n"
     ]
    }
   ],
   "source": [
    "!kaggle datasets download -d rishianand/devanagari-character-set"
   ]
  },
  {
   "cell_type": "code",
   "execution_count": 0,
   "metadata": {
    "colab": {
     "autoexec": {
      "startup": false,
      "wait_interval": 0
     }
    },
    "colab_type": "code",
    "id": "AJwRu1fP2FVf"
   },
   "outputs": [],
   "source": [
    "import os\n",
    "\n",
    "import numpy as np\n",
    "import pandas as pd\n",
    "from scipy.misc import imread\n",
    "from sklearn.linear_model import RidgeClassifier\n",
    "from sklearn.naive_bayes import BernoulliNB, GaussianNB\n",
    "from sklearn.tree import ExtraTreeClassifier, DecisionTreeClassifier\n",
    "from sklearn.neighbors import NearestCentroid, KNeighborsClassifier\n",
    "from sklearn.ensemble import ExtraTreesClassifier, RandomForestClassifier\n",
    "from sklearn.model_selection import cross_validate, GridSearchCV, learning_curve\n",
    "from sklearn.preprocessing import LabelEncoder\n",
    "\n",
    "import matplotlib.pyplot as plt\n",
    "\n",
    "%matplotlib inline"
   ]
  },
  {
   "cell_type": "code",
   "execution_count": 0,
   "metadata": {
    "colab": {
     "autoexec": {
      "startup": false,
      "wait_interval": 0
     }
    },
    "colab_type": "code",
    "id": "W1gm-1152NxE"
   },
   "outputs": [],
   "source": [
    "root_dir = os.getcwd()\n",
    "img_dir = os.path.join(root_dir, 'Images')"
   ]
  },
  {
   "cell_type": "code",
   "execution_count": 0,
   "metadata": {
    "colab": {
     "autoexec": {
      "startup": false,
      "wait_interval": 0
     }
    },
    "colab_type": "code",
    "id": "FbsESzkK2WYN"
   },
   "outputs": [],
   "source": [
    "pixels = np.array(['pixel_{:04d}'.format(x) for x in range(1024)])\n",
    "flag = True"
   ]
  },
  {
   "cell_type": "code",
   "execution_count": 9,
   "metadata": {
    "colab": {
     "autoexec": {
      "startup": false,
      "wait_interval": 0
     },
     "base_uri": "https://localhost:8080/",
     "height": 34
    },
    "colab_type": "code",
    "executionInfo": {
     "elapsed": 1925,
     "status": "ok",
     "timestamp": 1533430719666,
     "user": {
      "displayName": "Ashutosh Mishra",
      "photoUrl": "//lh5.googleusercontent.com/-flRvctClubY/AAAAAAAAAAI/AAAAAAAAADE/yH7fXuNfy3c/s50-c-k-no/photo.jpg",
      "userId": "115571466824821105632"
     },
     "user_tz": -330
    },
    "id": "Ji09MBi_25kz",
    "outputId": "3418fb1e-fef6-4dae-c7dd-ec04681f412f"
   },
   "outputs": [
    {
     "name": "stdout",
     "output_type": "stream",
     "text": [
      "data.csv  datalab  devanagari-character-set.zip  Images.zip  kaggle.json\r\n"
     ]
    }
   ],
   "source": [
    "!ls"
   ]
  },
  {
   "cell_type": "code",
   "execution_count": 0,
   "metadata": {
    "colab": {
     "autoexec": {
      "startup": false,
      "wait_interval": 0
     }
    },
    "colab_type": "code",
    "id": "k2kwMKlX2cUK"
   },
   "outputs": [],
   "source": [
    "'''\n",
    "for char_name in sorted(os.listdir(img_dir)):\n",
    "    char_dir = os.path.join(img_dir, char_name)\n",
    "    img_df = pd.DataFrame(columns=pixels)\n",
    "    \n",
    "    for img_file in sorted(os.listdir(char_dir)):\n",
    "        image = pd.Series(imread(os.path.join(char_dir, img_file)).flatten(), index=pixels)\n",
    "        img_df = img_df.append(image.T, ignore_index=True)\n",
    "        \n",
    "    img_df = img_df.astype(np.uint8)\n",
    "    img_df['character'] = char_name\n",
    "    \n",
    "    img_df.to_csv('data.csv', index=False, mode='a', header=flag)\n",
    "    flag=False\n",
    "    \n",
    "    print('=')\n",
    "'''\n",
    "    \n",
    "    \n",
    "df = pd.read_csv('data.csv')\n",
    "\n",
    "df['character_class'] = LabelEncoder().fit_transform(df.character)\n",
    "df.drop('character', axis=1, inplace=True)\n",
    "df = df.astype(np.uint8)"
   ]
  },
  {
   "cell_type": "code",
   "execution_count": 11,
   "metadata": {
    "colab": {
     "autoexec": {
      "startup": false,
      "wait_interval": 0
     },
     "base_uri": "https://localhost:8080/",
     "height": 34
    },
    "colab_type": "code",
    "executionInfo": {
     "elapsed": 940,
     "status": "ok",
     "timestamp": 1533430755942,
     "user": {
      "displayName": "Ashutosh Mishra",
      "photoUrl": "//lh5.googleusercontent.com/-flRvctClubY/AAAAAAAAAAI/AAAAAAAAADE/yH7fXuNfy3c/s50-c-k-no/photo.jpg",
      "userId": "115571466824821105632"
     },
     "user_tz": -330
    },
    "id": "ewVMTwmQ2h2q",
    "outputId": "9371ad9d-bae2-4aac-9b18-06624f1bd909"
   },
   "outputs": [
    {
     "data": {
      "text/plain": [
       "(92000, 1025)"
      ]
     },
     "execution_count": 11,
     "metadata": {
      "tags": []
     },
     "output_type": "execute_result"
    }
   ],
   "source": [
    "df.shape"
   ]
  },
  {
   "cell_type": "code",
   "execution_count": 12,
   "metadata": {
    "colab": {
     "autoexec": {
      "startup": false,
      "wait_interval": 0
     },
     "base_uri": "https://localhost:8080/",
     "height": 382
    },
    "colab_type": "code",
    "executionInfo": {
     "elapsed": 463120,
     "status": "ok",
     "timestamp": 1533431231021,
     "user": {
      "displayName": "Ashutosh Mishra",
      "photoUrl": "//lh5.googleusercontent.com/-flRvctClubY/AAAAAAAAAAI/AAAAAAAAADE/yH7fXuNfy3c/s50-c-k-no/photo.jpg",
      "userId": "115571466824821105632"
     },
     "user_tz": -330
    },
    "id": "ow-t0JE83jlr",
    "outputId": "3493f0f0-9a77-4254-fd5d-b918145cd4f9"
   },
   "outputs": [
    {
     "name": "stderr",
     "output_type": "stream",
     "text": [
      "/usr/local/lib/python2.7/dist-packages/sklearn/utils/deprecation.py:122: FutureWarning: You are accessing a training score ('train_score'), which will not be available by default any more in 0.21. If you need training scores, please set return_train_score=True\n",
      "  warnings.warn(*warn_args, **warn_kwargs)\n"
     ]
    },
    {
     "data": {
      "text/html": [
       "<div>\n",
       "<style scoped>\n",
       "    .dataframe tbody tr th:only-of-type {\n",
       "        vertical-align: middle;\n",
       "    }\n",
       "\n",
       "    .dataframe tbody tr th {\n",
       "        vertical-align: top;\n",
       "    }\n",
       "\n",
       "    .dataframe thead th {\n",
       "        text-align: right;\n",
       "    }\n",
       "</style>\n",
       "<table border=\"1\" class=\"dataframe\">\n",
       "  <thead>\n",
       "    <tr style=\"text-align: right;\">\n",
       "      <th></th>\n",
       "      <th>Classifier</th>\n",
       "      <th>Fit_Time</th>\n",
       "      <th>Score_Time</th>\n",
       "      <th>Test_Score</th>\n",
       "      <th>Train_Score</th>\n",
       "    </tr>\n",
       "  </thead>\n",
       "  <tbody>\n",
       "    <tr>\n",
       "      <th>0</th>\n",
       "      <td>RidgeClassifier</td>\n",
       "      <td>1.086705</td>\n",
       "      <td>0.033452</td>\n",
       "      <td>0.423384</td>\n",
       "      <td>0.841250</td>\n",
       "    </tr>\n",
       "    <tr>\n",
       "      <th>1</th>\n",
       "      <td>BernoulliNB</td>\n",
       "      <td>0.246649</td>\n",
       "      <td>0.084343</td>\n",
       "      <td>0.512742</td>\n",
       "      <td>0.546638</td>\n",
       "    </tr>\n",
       "    <tr>\n",
       "      <th>2</th>\n",
       "      <td>GaussianNB</td>\n",
       "      <td>0.146690</td>\n",
       "      <td>1.286614</td>\n",
       "      <td>0.396972</td>\n",
       "      <td>0.433721</td>\n",
       "    </tr>\n",
       "    <tr>\n",
       "      <th>3</th>\n",
       "      <td>ExtraTreeClassifier</td>\n",
       "      <td>0.102598</td>\n",
       "      <td>0.007871</td>\n",
       "      <td>0.319025</td>\n",
       "      <td>1.000000</td>\n",
       "    </tr>\n",
       "    <tr>\n",
       "      <th>4</th>\n",
       "      <td>DecisionTreeClassifier</td>\n",
       "      <td>4.400538</td>\n",
       "      <td>0.008878</td>\n",
       "      <td>0.367280</td>\n",
       "      <td>1.000000</td>\n",
       "    </tr>\n",
       "    <tr>\n",
       "      <th>5</th>\n",
       "      <td>NearestCentroid</td>\n",
       "      <td>0.056208</td>\n",
       "      <td>0.041537</td>\n",
       "      <td>0.530247</td>\n",
       "      <td>0.568857</td>\n",
       "    </tr>\n",
       "    <tr>\n",
       "      <th>6</th>\n",
       "      <td>KNeighborsClassifier</td>\n",
       "      <td>0.587007</td>\n",
       "      <td>47.572604</td>\n",
       "      <td>0.721442</td>\n",
       "      <td>0.841367</td>\n",
       "    </tr>\n",
       "    <tr>\n",
       "      <th>7</th>\n",
       "      <td>ExtraTreesClassifier</td>\n",
       "      <td>0.720847</td>\n",
       "      <td>0.033605</td>\n",
       "      <td>0.576327</td>\n",
       "      <td>1.000000</td>\n",
       "    </tr>\n",
       "    <tr>\n",
       "      <th>8</th>\n",
       "      <td>RandomForestClassifier</td>\n",
       "      <td>1.070369</td>\n",
       "      <td>0.029066</td>\n",
       "      <td>0.545237</td>\n",
       "      <td>0.998586</td>\n",
       "    </tr>\n",
       "  </tbody>\n",
       "</table>\n",
       "</div>"
      ],
      "text/plain": [
       "               Classifier  Fit_Time  Score_Time  Test_Score  Train_Score\n",
       "0         RidgeClassifier  1.086705    0.033452    0.423384     0.841250\n",
       "1             BernoulliNB  0.246649    0.084343    0.512742     0.546638\n",
       "2              GaussianNB  0.146690    1.286614    0.396972     0.433721\n",
       "3     ExtraTreeClassifier  0.102598    0.007871    0.319025     1.000000\n",
       "4  DecisionTreeClassifier  4.400538    0.008878    0.367280     1.000000\n",
       "5         NearestCentroid  0.056208    0.041537    0.530247     0.568857\n",
       "6    KNeighborsClassifier  0.587007   47.572604    0.721442     0.841367\n",
       "7    ExtraTreesClassifier  0.720847    0.033605    0.576327     1.000000\n",
       "8  RandomForestClassifier  1.070369    0.029066    0.545237     0.998586"
      ]
     },
     "execution_count": 12,
     "metadata": {
      "tags": []
     },
     "output_type": "execute_result"
    }
   ],
   "source": [
    "df_sample = df.sample(frac=0.1, random_state=0)\n",
    "\n",
    "names = ['RidgeClassifier', 'BernoulliNB', 'GaussianNB', 'ExtraTreeClassifier', 'DecisionTreeClassifier',\n",
    "         'NearestCentroid', 'KNeighborsClassifier', 'ExtraTreesClassifier', 'RandomForestClassifier']\n",
    "classifiers = [RidgeClassifier(), BernoulliNB(), GaussianNB(), ExtraTreeClassifier(), DecisionTreeClassifier(),\n",
    "                NearestCentroid(), KNeighborsClassifier(), ExtraTreesClassifier(), RandomForestClassifier()]\n",
    "test_scores, train_scores, fit_time, score_time = [], [], [], []\n",
    "\n",
    "for clf in classifiers:\n",
    "    scores = cross_validate(clf, df_sample.iloc[:, :-1], df_sample.iloc[:, -1])\n",
    "    test_scores.append(scores['test_score'].mean())\n",
    "    train_scores.append(scores['train_score'].mean())\n",
    "    fit_time.append(scores['fit_time'].mean())\n",
    "    score_time.append(scores['score_time'].mean())\n",
    "\n",
    "pd.DataFrame({'Classifier': names,\n",
    "              'Test_Score': test_scores,\n",
    "              'Train_Score': train_scores,\n",
    "              'Fit_Time': fit_time,\n",
    "              'Score_Time': score_time})"
   ]
  },
  {
   "cell_type": "code",
   "execution_count": 13,
   "metadata": {
    "colab": {
     "autoexec": {
      "startup": false,
      "wait_interval": 0
     },
     "base_uri": "https://localhost:8080/",
     "height": 484
    },
    "colab_type": "code",
    "executionInfo": {
     "elapsed": 2397799,
     "status": "ok",
     "timestamp": 1533433628897,
     "user": {
      "displayName": "Ashutosh Mishra",
      "photoUrl": "//lh5.googleusercontent.com/-flRvctClubY/AAAAAAAAAAI/AAAAAAAAADE/yH7fXuNfy3c/s50-c-k-no/photo.jpg",
      "userId": "115571466824821105632"
     },
     "user_tz": -330
    },
    "id": "wR4n0sWK3q4F",
    "outputId": "99ee5d43-ae87-4754-fd35-99ca4d7c5e99"
   },
   "outputs": [
    {
     "name": "stderr",
     "output_type": "stream",
     "text": [
      "/usr/local/lib/python2.7/dist-packages/sklearn/utils/deprecation.py:122: FutureWarning: You are accessing a training score ('mean_train_score'), which will not be available by default any more in 0.21. If you need training scores, please set return_train_score=True\n",
      "  warnings.warn(*warn_args, **warn_kwargs)\n",
      "/usr/local/lib/python2.7/dist-packages/sklearn/utils/deprecation.py:122: FutureWarning: You are accessing a training score ('split0_train_score'), which will not be available by default any more in 0.21. If you need training scores, please set return_train_score=True\n",
      "  warnings.warn(*warn_args, **warn_kwargs)\n",
      "/usr/local/lib/python2.7/dist-packages/sklearn/utils/deprecation.py:122: FutureWarning: You are accessing a training score ('split1_train_score'), which will not be available by default any more in 0.21. If you need training scores, please set return_train_score=True\n",
      "  warnings.warn(*warn_args, **warn_kwargs)\n",
      "/usr/local/lib/python2.7/dist-packages/sklearn/utils/deprecation.py:122: FutureWarning: You are accessing a training score ('split2_train_score'), which will not be available by default any more in 0.21. If you need training scores, please set return_train_score=True\n",
      "  warnings.warn(*warn_args, **warn_kwargs)\n",
      "/usr/local/lib/python2.7/dist-packages/sklearn/utils/deprecation.py:122: FutureWarning: You are accessing a training score ('std_train_score'), which will not be available by default any more in 0.21. If you need training scores, please set return_train_score=True\n",
      "  warnings.warn(*warn_args, **warn_kwargs)\n"
     ]
    },
    {
     "data": {
      "image/png": "[encoded data removed]",
      "text/plain": [
       "<matplotlib.figure.Figure at 0x7f7fe95e2a10>"
      ]
     },
     "metadata": {
      "tags": []
     },
     "output_type": "display_data"
    }
   ],
   "source": [
    "parameters = {'n_neighbors': np.arange(1, 22, 4)}\n",
    "clf = GridSearchCV(KNeighborsClassifier(), parameters)\n",
    "\n",
    "clf.fit(df_sample.iloc[:, :-1], df_sample.iloc[:, -1])\n",
    "result = pd.DataFrame.from_dict(clf.cv_results_)\n",
    "\n",
    "x, y = clf.best_params_['n_neighbors'], clf.best_score_\n",
    "text = 'N Neighbors = {}, Score = {}'.format(x, y)\n",
    "\n",
    "plt.figure()\n",
    "plt.title('K Nearest Neighbors')\n",
    "plt.xlabel('No. of Neighbors')\n",
    "plt.ylabel('Accuracy Score')\n",
    "plt.yticks(np.arange(0.6, 0.81, 0.02))\n",
    "\n",
    "plt.plot(result.param_n_neighbors, result.mean_test_score, label='Mean Accuracy Score')\n",
    "plt.plot(x, y, 'o', label=text)\n",
    "\n",
    "plt.legend()\n",
    "plt.show()"
   ]
  },
  {
   "cell_type": "code",
   "execution_count": 14,
   "metadata": {
    "colab": {
     "autoexec": {
      "startup": false,
      "wait_interval": 0
     },
     "base_uri": "https://localhost:8080/",
     "height": 294
    },
    "colab_type": "code",
    "executionInfo": {
     "elapsed": 624987,
     "status": "ok",
     "timestamp": 1533434254168,
     "user": {
      "displayName": "Ashutosh Mishra",
      "photoUrl": "//lh5.googleusercontent.com/-flRvctClubY/AAAAAAAAAAI/AAAAAAAAADE/yH7fXuNfy3c/s50-c-k-no/photo.jpg",
      "userId": "115571466824821105632"
     },
     "user_tz": -330
    },
    "id": "Uzn-iPXq39ch",
    "outputId": "14f0cd35-8d34-4009-ac47-a31813b04f8a"
   },
   "outputs": [
    {
     "data": {
      "image/png": "[encoded data removed]",
      "text/plain": [
       "<matplotlib.figure.Figure at 0x7f7fe963ce50>"
      ]
     },
     "metadata": {
      "tags": []
     },
     "output_type": "display_data"
    }
   ],
   "source": [
    "parameters = {'n_estimators': np.arange(20, 310, 20)}\n",
    "clf = GridSearchCV(ExtraTreesClassifier(), parameters)\n",
    "\n",
    "clf.fit(df_sample.iloc[:, :-1], df_sample.iloc[:, -1])\n",
    "result = pd.DataFrame.from_dict(clf.cv_results_)\n",
    "\n",
    "x, y = clf.best_params_['n_estimators'], clf.best_score_\n",
    "text = 'No. of Trees = {}, Score = {}'.format(x, y)\n",
    "\n",
    "plt.figure()\n",
    "plt.title('Extremely Randomized Trees Classification')\n",
    "plt.xlabel('No. of Trees')\n",
    "plt.ylabel('Accuracy Score')\n",
    "plt.yticks(np.arange(0.6, 0.81, 0.02))\n",
    "\n",
    "plt.plot(result.param_n_estimators, result.mean_test_score, label='Mean Accuracy Score')\n",
    "plt.plot(x, y, 'o', label=text)\n",
    "\n",
    "plt.legend()\n",
    "plt.show()"
   ]
  },
  {
   "cell_type": "code",
   "execution_count": 15,
   "metadata": {
    "colab": {
     "autoexec": {
      "startup": false,
      "wait_interval": 0
     },
     "base_uri": "https://localhost:8080/",
     "height": 221
    },
    "colab_type": "code",
    "executionInfo": {
     "elapsed": 922,
     "status": "ok",
     "timestamp": 1533434549548,
     "user": {
      "displayName": "Ashutosh Mishra",
      "photoUrl": "//lh5.googleusercontent.com/-flRvctClubY/AAAAAAAAAAI/AAAAAAAAADE/yH7fXuNfy3c/s50-c-k-no/photo.jpg",
      "userId": "115571466824821105632"
     },
     "user_tz": -330
    },
    "id": "FkN06F9A0kbh",
    "outputId": "bdd1c343-de06-4e6a-d90f-a687c15f2000"
   },
   "outputs": [
    {
     "data": {
      "text/plain": [
       "GridSearchCV(cv=None, error_score='raise',\n",
       "       estimator=ExtraTreesClassifier(bootstrap=False, class_weight=None, criterion='gini',\n",
       "           max_depth=None, max_features='auto', max_leaf_nodes=None,\n",
       "           min_impurity_decrease=0.0, min_impurity_split=None,\n",
       "           min_samples_leaf=1, min_samples_split=2,\n",
       "           min_weight_fraction_leaf=0.0, n_estimators=10, n_jobs=1,\n",
       "           oob_score=False, random_state=None, verbose=0, warm_start=False),\n",
       "       fit_params=None, iid=True, n_jobs=1,\n",
       "       param_grid={'n_estimators': array([ 20,  40,  60,  80, 100, 120, 140, 160, 180, 200, 220, 240, 260,\n",
       "       280, 300])},\n",
       "       pre_dispatch='2*n_jobs', refit=True, return_train_score='warn',\n",
       "       scoring=None, verbose=0)"
      ]
     },
     "execution_count": 15,
     "metadata": {
      "tags": []
     },
     "output_type": "execute_result"
    }
   ],
   "source": [
    "clf"
   ]
  },
  {
   "cell_type": "code",
   "execution_count": 25,
   "metadata": {
    "colab": {
     "autoexec": {
      "startup": false,
      "wait_interval": 0
     },
     "base_uri": "https://localhost:8080/",
     "height": 51
    },
    "colab_type": "code",
    "executionInfo": {
     "elapsed": 2267,
     "status": "ok",
     "timestamp": 1533435178112,
     "user": {
      "displayName": "Ashutosh Mishra",
      "photoUrl": "//lh5.googleusercontent.com/-flRvctClubY/AAAAAAAAAAI/AAAAAAAAADE/yH7fXuNfy3c/s50-c-k-no/photo.jpg",
      "userId": "115571466824821105632"
     },
     "user_tz": -330
    },
    "id": "s_QHQ6_64AsO",
    "outputId": "25df6744-c132-4249-de0f-2f46270226ad"
   },
   "outputs": [
    {
     "name": "stdout",
     "output_type": "stream",
     "text": [
      "clf.pkl   datalab\t\t\tdrive\t    kaggle.json\r\n",
      "data.csv  devanagari-character-set.zip\tImages.zip\r\n"
     ]
    }
   ],
   "source": [
    "!ls"
   ]
  },
  {
   "cell_type": "code",
   "execution_count": 0,
   "metadata": {
    "colab": {
     "autoexec": {
      "startup": false,
      "wait_interval": 0
     }
    },
    "colab_type": "code",
    "id": "YoFYUEEX27v1"
   },
   "outputs": [],
   "source": [
    "!cp -i clf.pkl drive"
   ]
  },
  {
   "cell_type": "code",
   "execution_count": 0,
   "metadata": {
    "colab": {
     "autoexec": {
      "startup": false,
      "wait_interval": 0
     }
    },
    "colab_type": "code",
    "id": "Utw-sRuD0-5p"
   },
   "outputs": [],
   "source": [
    "from sklearn.externals import joblib"
   ]
  },
  {
   "cell_type": "code",
   "execution_count": 0,
   "metadata": {
    "colab": {
     "autoexec": {
      "startup": false,
      "wait_interval": 0
     }
    },
    "colab_type": "code",
    "id": "RV6imqIk1ADw"
   },
   "outputs": [],
   "source": [
    "clf = joblib.load('drive/clf.pkl')"
   ]
  },
  {
   "cell_type": "code",
   "execution_count": 0,
   "metadata": {
    "colab": {
     "autoexec": {
      "startup": false,
      "wait_interval": 0
     }
    },
    "colab_type": "code",
    "id": "GqTwW4BL1Tjy"
   },
   "outputs": [],
   "source": [
    "import zipfile"
   ]
  },
  {
   "cell_type": "code",
   "execution_count": 13,
   "metadata": {
    "colab": {
     "autoexec": {
      "startup": false,
      "wait_interval": 0
     },
     "base_uri": "https://localhost:8080/",
     "height": 34
    },
    "colab_type": "code",
    "executionInfo": {
     "elapsed": 2071,
     "status": "ok",
     "timestamp": 1533518700953,
     "user": {
      "displayName": "Ashutosh Mishra",
      "photoUrl": "//lh5.googleusercontent.com/-flRvctClubY/AAAAAAAAAAI/AAAAAAAAADE/yH7fXuNfy3c/s50-c-k-no/photo.jpg",
      "userId": "115571466824821105632"
     },
     "user_tz": -330
    },
    "id": "nqMoUA8T1aJ8",
    "outputId": "17f786f7-07cd-4e3b-8c77-68b6f4455156"
   },
   "outputs": [
    {
     "name": "stdout",
     "output_type": "stream",
     "text": [
      "data.csv  datalab  devanagari-character-set.zip  drive\tImages.zip  kaggle.json\r\n"
     ]
    }
   ],
   "source": [
    "!ls"
   ]
  },
  {
   "cell_type": "code",
   "execution_count": 0,
   "metadata": {
    "colab": {
     "autoexec": {
      "startup": false,
      "wait_interval": 0
     }
    },
    "colab_type": "code",
    "id": "zChLDfJv1lii"
   },
   "outputs": [],
   "source": [
    "zip_=zipfile.ZipFile('Images.zip')"
   ]
  },
  {
   "cell_type": "code",
   "execution_count": 0,
   "metadata": {
    "colab": {
     "autoexec": {
      "startup": false,
      "wait_interval": 0
     }
    },
    "colab_type": "code",
    "id": "fkg3iah22S9T"
   },
   "outputs": [],
   "source": [
    "imgfile = zip.open('Images/character_01_ka/1382.png')"
   ]
  },
  {
   "cell_type": "code",
   "execution_count": 0,
   "metadata": {
    "colab": {
     "autoexec": {
      "startup": false,
      "wait_interval": 0
     }
    },
    "colab_type": "code",
    "id": "2TMXKIDl2Vg-"
   },
   "outputs": [],
   "source": [
    "#!pip install pygame\n",
    "import io, pygame"
   ]
  },
  {
   "cell_type": "code",
   "execution_count": 0,
   "metadata": {
    "colab": {
     "autoexec": {
      "startup": false,
      "wait_interval": 0
     }
    },
    "colab_type": "code",
    "id": "1X5v_XdMK_Dg"
   },
   "outputs": [],
   "source": [
    "bytes_io = io.BytesIO(imgfile)\n",
    "\n",
    "img = pygame.image.load(bytes_io)"
   ]
  },
  {
   "cell_type": "code",
   "execution_count": 46,
   "metadata": {
    "colab": {
     "autoexec": {
      "startup": false,
      "wait_interval": 0
     },
     "base_uri": "https://localhost:8080/",
     "height": 266
    },
    "colab_type": "code",
    "executionInfo": {
     "elapsed": 1260,
     "status": "ok",
     "timestamp": 1533524879628,
     "user": {
      "displayName": "Ashutosh Mishra",
      "photoUrl": "//lh5.googleusercontent.com/-flRvctClubY/AAAAAAAAAAI/AAAAAAAAADE/yH7fXuNfy3c/s50-c-k-no/photo.jpg",
      "userId": "115571466824821105632"
     },
     "user_tz": -330
    },
    "id": "VCBOg706L85U",
    "outputId": "a08c337a-81a5-4f35-b438-67e6ec0591b6"
   },
   "outputs": [
    {
     "data": {
      "image/png": "[encoded data removed]",
      "text/plain": [
       "<matplotlib.figure.Figure at 0x7fea42df88d0>"
      ]
     },
     "metadata": {
      "tags": []
     },
     "output_type": "display_data"
    }
   ],
   "source": [
    "import matplotlib.image as mpimg\n",
    "img=mpimg.imread(imgfile)\n",
    "imgplot = plt.imshow(img)\n",
    "plt.show()"
   ]
  },
  {
   "cell_type": "code",
   "execution_count": 0,
   "metadata": {
    "colab": {
     "autoexec": {
      "startup": false,
      "wait_interval": 0
     }
    },
    "colab_type": "code",
    "id": "kuMSGdOwNOe1"
   },
   "outputs": [],
   "source": [
    "d = pd.read_csv('data.csv')"
   ]
  },
  {
   "cell_type": "code",
   "execution_count": 59,
   "metadata": {
    "colab": {
     "autoexec": {
      "startup": false,
      "wait_interval": 0
     },
     "base_uri": "https://localhost:8080/",
     "height": 153
    },
    "colab_type": "code",
    "executionInfo": {
     "elapsed": 1171,
     "status": "ok",
     "timestamp": 1533525370748,
     "user": {
      "displayName": "Ashutosh Mishra",
      "photoUrl": "//lh5.googleusercontent.com/-flRvctClubY/AAAAAAAAAAI/AAAAAAAAADE/yH7fXuNfy3c/s50-c-k-no/photo.jpg",
      "userId": "115571466824821105632"
     },
     "user_tz": -330
    },
    "id": "jtjEFxcpPA_v",
    "outputId": "0e69f492-1d03-4be6-b3f3-1f5dac17cfe4"
   },
   "outputs": [
    {
     "data": {
      "text/plain": [
       "Index([u'pixel_0000', u'pixel_0001', u'pixel_0002', u'pixel_0003',\n",
       "       u'pixel_0004', u'pixel_0005', u'pixel_0006', u'pixel_0007',\n",
       "       u'pixel_0008', u'pixel_0009',\n",
       "       ...\n",
       "       u'pixel_1015', u'pixel_1016', u'pixel_1017', u'pixel_1018',\n",
       "       u'pixel_1019', u'pixel_1020', u'pixel_1021', u'pixel_1022',\n",
       "       u'pixel_1023', u'character'],\n",
       "      dtype='object', length=1025)"
      ]
     },
     "execution_count": 59,
     "metadata": {
      "tags": []
     },
     "output_type": "execute_result"
    }
   ],
   "source": [
    "d.columns"
   ]
  },
  {
   "cell_type": "code",
   "execution_count": 65,
   "metadata": {
    "colab": {
     "autoexec": {
      "startup": false,
      "wait_interval": 0
     },
     "base_uri": "https://localhost:8080/",
     "height": 34
    },
    "colab_type": "code",
    "executionInfo": {
     "elapsed": 1559,
     "status": "ok",
     "timestamp": 1533525518442,
     "user": {
      "displayName": "Ashutosh Mishra",
      "photoUrl": "//lh5.googleusercontent.com/-flRvctClubY/AAAAAAAAAAI/AAAAAAAAADE/yH7fXuNfy3c/s50-c-k-no/photo.jpg",
      "userId": "115571466824821105632"
     },
     "user_tz": -330
    },
    "id": "np4aGYQQNqId",
    "outputId": "a16e5daa-53a2-495a-9b27-71d6fee349fa"
   },
   "outputs": [
    {
     "data": {
      "text/plain": [
       "array([13], dtype=uint8)"
      ]
     },
     "execution_count": 65,
     "metadata": {
      "tags": []
     },
     "output_type": "execute_result"
    }
   ],
   "source": [
    "clf.predict(d.ix[1382][:-1].values.reshape(1,-1))"
   ]
  },
  {
   "cell_type": "code",
   "execution_count": 71,
   "metadata": {
    "colab": {
     "autoexec": {
      "startup": false,
      "wait_interval": 0
     },
     "base_uri": "https://localhost:8080/",
     "height": 34
    },
    "colab_type": "code",
    "executionInfo": {
     "elapsed": 19670,
     "status": "ok",
     "timestamp": 1533525730936,
     "user": {
      "displayName": "Ashutosh Mishra",
      "photoUrl": "//lh5.googleusercontent.com/-flRvctClubY/AAAAAAAAAAI/AAAAAAAAADE/yH7fXuNfy3c/s50-c-k-no/photo.jpg",
      "userId": "115571466824821105632"
     },
     "user_tz": -330
    },
    "id": "49X-zbYiOmGB",
    "outputId": "9b7a6df1-b11c-4a3c-940a-ba72eb636c62"
   },
   "outputs": [
    {
     "name": "stderr",
     "output_type": "stream",
     "text": [
      "100%|██████████| 1300/1300 [00:18<00:00, 69.24it/s]\n"
     ]
    }
   ],
   "source": [
    "from tqdm import trange\n",
    "k = []\n",
    "for i in trange(1300):\n",
    "  k.append(clf.predict(d.ix[i][:-1].values.reshape(1,-1)))"
   ]
  },
  {
   "cell_type": "code",
   "execution_count": 79,
   "metadata": {
    "colab": {
     "autoexec": {
      "startup": false,
      "wait_interval": 0
     },
     "base_uri": "https://localhost:8080/",
     "height": 34
    },
    "colab_type": "code",
    "executionInfo": {
     "elapsed": 3696,
     "status": "ok",
     "timestamp": 1533525918984,
     "user": {
      "displayName": "Ashutosh Mishra",
      "photoUrl": "//lh5.googleusercontent.com/-flRvctClubY/AAAAAAAAAAI/AAAAAAAAADE/yH7fXuNfy3c/s50-c-k-no/photo.jpg",
      "userId": "115571466824821105632"
     },
     "user_tz": -330
    },
    "id": "4qA94LhPPo1l",
    "outputId": "ed6f4375-e3e6-4563-cc0e-c82186d0b2b9"
   },
   "outputs": [
    {
     "name": "stderr",
     "output_type": "stream",
     "text": [
      "100%|██████████| 1300/1300 [00:00<00:00, 74263.78it/s]\n"
     ]
    }
   ],
   "source": [
    "p= 0\n",
    "for i in trange(len(k)):\n",
    "  if k[i] == np.array([0]):\n",
    "    p+=1"
   ]
  },
  {
   "cell_type": "code",
   "execution_count": 99,
   "metadata": {
    "colab": {
     "autoexec": {
      "startup": false,
      "wait_interval": 0
     },
     "base_uri": "https://localhost:8080/",
     "height": 34
    },
    "colab_type": "code",
    "executionInfo": {
     "elapsed": 2211,
     "status": "ok",
     "timestamp": 1533526335093,
     "user": {
      "displayName": "Ashutosh Mishra",
      "photoUrl": "//lh5.googleusercontent.com/-flRvctClubY/AAAAAAAAAAI/AAAAAAAAADE/yH7fXuNfy3c/s50-c-k-no/photo.jpg",
      "userId": "115571466824821105632"
     },
     "user_tz": -330
    },
    "id": "e2sCrHflQb8b",
    "outputId": "757b001d-21cb-41d6-9c7c-e88b6e31736c"
   },
   "outputs": [
    {
     "name": "stdout",
     "output_type": "stream",
     "text": [
      "The percentage of correct results : 87.4615384615 %\n"
     ]
    }
   ],
   "source": [
    "print('The percentage of correct results : {} %').format((p/len(k))*100)"
   ]
  },
  {
   "cell_type": "code",
   "execution_count": 0,
   "metadata": {
    "colab": {
     "autoexec": {
      "startup": false,
      "wait_interval": 0
     }
    },
    "colab_type": "code",
    "id": "0B4klgBpR3e4"
   },
   "outputs": [],
   "source": []
  }
 ],
 "metadata": {
  "anaconda-cloud": {},
  "colab": {
   "collapsed_sections": [],
   "default_view": {},
   "name": "devnagiri.ipynb",
   "provenance": [],
   "version": "0.3.2",
   "views": {}
  },
  "kernelspec": {
   "display_name": "Python [default]",
   "language": "python",
   "name": "python3"
  },
  "language_info": {
   "codemirror_mode": {
    "name": "ipython",
    "version": 3
   },
   "file_extension": ".py",
   "mimetype": "text/x-python",
   "name": "python",
   "nbconvert_exporter": "python",
   "pygments_lexer": "ipython3",
   "version": "3.5.2"
  }
 },
 "nbformat": 4,
 "nbformat_minor": 1
}
